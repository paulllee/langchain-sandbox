{
 "cells": [
  {
   "cell_type": "code",
   "execution_count": 1,
   "metadata": {},
   "outputs": [],
   "source": [
    "from langchain_sandbox import chat"
   ]
  },
  {
   "cell_type": "code",
   "execution_count": 2,
   "metadata": {},
   "outputs": [],
   "source": [
    "chat_interface: chat.Chat = chat.Chat(temperature=0.2)"
   ]
  },
  {
   "cell_type": "code",
   "execution_count": 3,
   "metadata": {},
   "outputs": [
    {
     "name": "stdout",
     "output_type": "stream",
     "text": [
      "\n",
      "\n",
      "\u001b[1m> Entering new AgentExecutor chain...\u001b[0m\n",
      "\u001b[32;1m\u001b[1;3m{\n",
      "    \"action\": \"Final Answer\",\n",
      "    \"action_input\": \"Hello! How can I assist you today?\"\n",
      "}\u001b[0m\n",
      "\n",
      "\u001b[1m> Finished chain.\u001b[0m\n",
      "AI: Hello! How can I assist you today?\n"
     ]
    }
   ],
   "source": [
    "chat_interface.run(\"Hi\")"
   ]
  },
  {
   "cell_type": "code",
   "execution_count": 5,
   "metadata": {},
   "outputs": [
    {
     "name": "stdout",
     "output_type": "stream",
     "text": [
      "\n",
      "\n",
      "\u001b[1m> Entering new AgentExecutor chain...\u001b[0m\n",
      "\u001b[32;1m\u001b[1;3m{\n",
      "    \"action\": \"get_total_cost_and_summary\",\n",
      "    \"action_input\": {\n",
      "        \"groceries\": {\n",
      "            \"apples\": {\n",
      "                \"quantity\": 3,\n",
      "                \"price\": 1.30\n",
      "            },\n",
      "            \"sweet onions\": {\n",
      "                \"quantity\": 5,\n",
      "                \"price\": 0.79\n",
      "            },\n",
      "            \"milk\": {\n",
      "                \"quantity\": 1,\n",
      "                \"price\": 4.50\n",
      "            }\n",
      "        }\n",
      "    }\n",
      "}\u001b[0m\u001b[36;1m\u001b[1;3mThe total cost of all items is 12.35.\u001b[0m\u001b[32;1m\u001b[1;3m{\n",
      "    \"action\": \"Final Answer\",\n",
      "    \"action_input\": \"The total cost of all items is $12.35.\"\n",
      "}\u001b[0m\n",
      "\n",
      "\u001b[1m> Finished chain.\u001b[0m\n",
      "AI: The total cost of all items is $12.35.\n"
     ]
    }
   ],
   "source": [
    "chat_interface.run(\"I have 3 apples that costed around $1.30 per apple. I also have 5 sweet onions around $0.79. Finally, I have around one gallon of milk around $4.50.\")"
   ]
  }
 ],
 "metadata": {
  "kernelspec": {
   "display_name": "Python 3",
   "language": "python",
   "name": "python3"
  },
  "language_info": {
   "codemirror_mode": {
    "name": "ipython",
    "version": 3
   },
   "file_extension": ".py",
   "mimetype": "text/x-python",
   "name": "python",
   "nbconvert_exporter": "python",
   "pygments_lexer": "ipython3",
   "version": "3.11.6"
  }
 },
 "nbformat": 4,
 "nbformat_minor": 2
}
